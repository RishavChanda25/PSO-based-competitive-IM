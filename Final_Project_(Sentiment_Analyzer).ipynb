{
  "metadata": {
    "kernelspec": {
      "language": "python",
      "display_name": "Python 3",
      "name": "python3"
    },
    "language_info": {
      "name": "python",
      "version": "3.10.12",
      "mimetype": "text/x-python",
      "codemirror_mode": {
        "name": "ipython",
        "version": 3
      },
      "pygments_lexer": "ipython3",
      "nbconvert_exporter": "python",
      "file_extension": ".py"
    },
    "kaggle": {
      "accelerator": "none",
      "dataSources": [
        {
          "sourceId": 3316532,
          "sourceType": "datasetVersion",
          "datasetId": 10100
        }
      ],
      "dockerImageVersionId": 30886,
      "isInternetEnabled": true,
      "language": "python",
      "sourceType": "notebook",
      "isGpuEnabled": false
    },
    "colab": {
      "provenance": []
    }
  },
  "nbformat_minor": 0,
  "nbformat": 4,
  "cells": [
    {
      "source": [
        "# IMPORTANT: RUN THIS CELL IN ORDER TO IMPORT YOUR KAGGLE DATA SOURCES,\n",
        "# THEN FEEL FREE TO DELETE THIS CELL.\n",
        "# NOTE: THIS NOTEBOOK ENVIRONMENT DIFFERS FROM KAGGLE'S PYTHON\n",
        "# ENVIRONMENT SO THERE MAY BE MISSING LIBRARIES USED BY YOUR\n",
        "# NOTEBOOK.\n",
        "import kagglehub\n",
        "organizations_yelp_dataset_yelp_dataset_path = kagglehub.dataset_download('organizations/yelp-dataset/yelp-dataset')\n",
        "\n",
        "print('Data source import complete.')\n"
      ],
      "metadata": {
        "id": "CzS-sJ5E56T2"
      },
      "cell_type": "code",
      "outputs": [],
      "execution_count": null
    },
    {
      "cell_type": "code",
      "source": [
        "# This Python 3 environment comes with many helpful analytics libraries installed\n",
        "# It is defined by the kaggle/python Docker image: https://github.com/kaggle/docker-python\n",
        "# For example, here's several helpful packages to load\n",
        "\n",
        "import numpy as np # linear algebra\n",
        "import pandas as pd # data processing, CSV file I/O (e.g. pd.read_csv)\n",
        "\n",
        "# Input data files are available in the read-only \"../input/\" directory\n",
        "# For example, running this (by clicking run or pressing Shift+Enter) will list all files under the input directory\n",
        "\n",
        "import os\n",
        "for dirname, _, filenames in os.walk('/kaggle/input'):\n",
        "    for filename in filenames:\n",
        "        print(os.path.join(dirname, filename))\n",
        "\n",
        "# You can write up to 20GB to the current directory (/kaggle/working/) that gets preserved as output when you create a version using \"Save & Run All\"\n",
        "# You can also write temporary files to /kaggle/temp/, but they won't be saved outside of the current session"
      ],
      "metadata": {
        "_uuid": "8f2839f25d086af736a60e9eeb907d3b93b6e0e5",
        "_cell_guid": "b1076dfc-b9ad-4769-8c92-a6c4dae69d19",
        "trusted": true,
        "execution": {
          "iopub.status.busy": "2025-03-11T07:50:04.626765Z",
          "iopub.execute_input": "2025-03-11T07:50:04.627117Z",
          "iopub.status.idle": "2025-03-11T07:50:04.63558Z",
          "shell.execute_reply.started": "2025-03-11T07:50:04.62709Z",
          "shell.execute_reply": "2025-03-11T07:50:04.634596Z"
        },
        "id": "nhb4Rtro56T5",
        "outputId": "061ca251-72a0-4ad4-f2a2-5096ea54cab4"
      },
      "outputs": [
        {
          "name": "stdout",
          "text": "/kaggle/input/yelp-dataset/Dataset_User_Agreement.pdf\n/kaggle/input/yelp-dataset/yelp_academic_dataset_review.json\n/kaggle/input/yelp-dataset/yelp_academic_dataset_checkin.json\n/kaggle/input/yelp-dataset/yelp_academic_dataset_business.json\n/kaggle/input/yelp-dataset/yelp_academic_dataset_tip.json\n/kaggle/input/yelp-dataset/yelp_academic_dataset_user.json\n",
          "output_type": "stream"
        }
      ],
      "execution_count": null
    },
    {
      "cell_type": "code",
      "source": [
        "import kagglehub\n",
        "\n",
        "# Download latest version\n",
        "path = kagglehub.dataset_download(\"yelp-dataset/yelp-dataset\")\n",
        "\n",
        "print(\"Path to dataset files:\", path)"
      ],
      "metadata": {
        "trusted": true,
        "execution": {
          "iopub.status.busy": "2025-03-11T07:50:07.285382Z",
          "iopub.execute_input": "2025-03-11T07:50:07.285702Z",
          "iopub.status.idle": "2025-03-11T07:50:08.111017Z",
          "shell.execute_reply.started": "2025-03-11T07:50:07.285677Z",
          "shell.execute_reply": "2025-03-11T07:50:08.109894Z"
        },
        "id": "NbQqVQ3i56T6",
        "outputId": "46dd5bae-4041-4b56-8cb9-0d52865c05ac"
      },
      "outputs": [
        {
          "name": "stdout",
          "text": "Path to dataset files: /kaggle/input/yelp-dataset\n",
          "output_type": "stream"
        }
      ],
      "execution_count": null
    },
    {
      "cell_type": "code",
      "source": [
        "import os\n",
        "\n",
        "dataset_path = \"/kaggle/input/yelp-dataset\"\n",
        "\n",
        "# List all files in the dataset folder\n",
        "for filename in os.listdir(dataset_path):\n",
        "    print(filename)\n"
      ],
      "metadata": {
        "trusted": true,
        "execution": {
          "iopub.status.busy": "2025-03-11T07:50:14.271406Z",
          "iopub.execute_input": "2025-03-11T07:50:14.271783Z",
          "iopub.status.idle": "2025-03-11T07:50:14.278998Z",
          "shell.execute_reply.started": "2025-03-11T07:50:14.27175Z",
          "shell.execute_reply": "2025-03-11T07:50:14.277947Z"
        },
        "id": "6GK3QpLA56T6",
        "outputId": "7620a949-ea94-49a5-8f38-38b23a9097ce"
      },
      "outputs": [
        {
          "name": "stdout",
          "text": "Dataset_User_Agreement.pdf\nyelp_academic_dataset_review.json\nyelp_academic_dataset_checkin.json\nyelp_academic_dataset_business.json\nyelp_academic_dataset_tip.json\nyelp_academic_dataset_user.json\n",
          "output_type": "stream"
        }
      ],
      "execution_count": null
    },
    {
      "cell_type": "code",
      "source": [
        "import json\n",
        "\n",
        "file_path = \"/kaggle/input/yelp-dataset/yelp_academic_dataset_review.json\"\n",
        "\n",
        "# Read the first 5 lines manually\n",
        "with open(file_path, \"r\", encoding=\"utf-8\") as f:\n",
        "    for _ in range(5):\n",
        "        print(json.loads(f.readline()))  # Read line by line"
      ],
      "metadata": {
        "trusted": true,
        "execution": {
          "iopub.status.busy": "2025-03-11T07:50:23.098783Z",
          "iopub.execute_input": "2025-03-11T07:50:23.099174Z",
          "iopub.status.idle": "2025-03-11T07:50:23.111686Z",
          "shell.execute_reply.started": "2025-03-11T07:50:23.099146Z",
          "shell.execute_reply": "2025-03-11T07:50:23.110693Z"
        },
        "id": "GEmPwyfG56T7",
        "outputId": "83856193-82f3-4907-f4f5-3417729f40af"
      },
      "outputs": [
        {
          "name": "stdout",
          "text": "{'review_id': 'KU_O5udG6zpxOg-VcAEodg', 'user_id': 'mh_-eMZ6K5RLWhZyISBhwA', 'business_id': 'XQfwVwDr-v0ZS3_CbbE5Xw', 'stars': 3.0, 'useful': 0, 'funny': 0, 'cool': 0, 'text': \"If you decide to eat here, just be aware it is going to take about 2 hours from beginning to end. We have tried it multiple times, because I want to like it! I have been to it's other locations in NJ and never had a bad experience. \\n\\nThe food is good, but it takes a very long time to come out. The waitstaff is very young, but usually pleasant. We have just had too many experiences where we spent way too long waiting. We usually opt for another diner or restaurant on the weekends, in order to be done quicker.\", 'date': '2018-07-07 22:09:11'}\n{'review_id': 'BiTunyQ73aT9WBnpR9DZGw', 'user_id': 'OyoGAe7OKpv6SyGZT5g77Q', 'business_id': '7ATYjTIgM3jUlt4UM3IypQ', 'stars': 5.0, 'useful': 1, 'funny': 0, 'cool': 1, 'text': \"I've taken a lot of spin classes over the years, and nothing compares to the classes at Body Cycle. From the nice, clean space and amazing bikes, to the welcoming and motivating instructors, every class is a top notch work out.\\n\\nFor anyone who struggles to fit workouts in, the online scheduling system makes it easy to plan ahead (and there's no need to line up way in advanced like many gyms make you do).\\n\\nThere is no way I can write this review without giving Russell, the owner of Body Cycle, a shout out. Russell's passion for fitness and cycling is so evident, as is his desire for all of his clients to succeed. He is always dropping in to classes to check in/provide encouragement, and is open to ideas and recommendations from anyone. Russell always wears a smile on his face, even when he's kicking your butt in class!\", 'date': '2012-01-03 15:28:18'}\n{'review_id': 'saUsX_uimxRlCVr67Z4Jig', 'user_id': '8g_iMtfSiwikVnbP2etR0A', 'business_id': 'YjUWPpI6HXG530lwP-fb2A', 'stars': 3.0, 'useful': 0, 'funny': 0, 'cool': 0, 'text': 'Family diner. Had the buffet. Eclectic assortment: a large chicken leg, fried jalapeño, tamale, two rolled grape leaves, fresh melon. All good. Lots of Mexican choices there. Also has a menu with breakfast served all day long. Friendly, attentive staff. Good place for a casual relaxed meal with no expectations. Next to the Clarion Hotel.', 'date': '2014-02-05 20:30:30'}\n{'review_id': 'AqPFMleE6RsU23_auESxiA', 'user_id': '_7bHUi9Uuf5__HHc_Q8guQ', 'business_id': 'kxX2SOes4o-D3ZQBkiMRfA', 'stars': 5.0, 'useful': 1, 'funny': 0, 'cool': 1, 'text': \"Wow!  Yummy, different,  delicious.   Our favorite is the lamb curry and korma.  With 10 different kinds of naan!!!  Don't let the outside deter you (because we almost changed our minds)...go in and try something new!   You'll be glad you did!\", 'date': '2015-01-04 00:01:03'}\n{'review_id': 'Sx8TMOWLNuJBWer-0pcmoA', 'user_id': 'bcjbaE6dDog4jkNY91ncLQ', 'business_id': 'e4Vwtrqf-wpJfwesgvdgxQ', 'stars': 4.0, 'useful': 1, 'funny': 0, 'cool': 1, 'text': \"Cute interior and owner (?) gave us tour of upcoming patio/rooftop area which will be great on beautiful days like today. Cheese curds were very good and very filling. Really like that sandwiches come w salad, esp after eating too many curds! Had the onion, gruyere, tomato sandwich. Wasn't too much cheese which I liked. Needed something else...pepper jelly maybe. Would like to see more menu options added such as salads w fun cheeses. Lots of beer and wine as well as limited cocktails. Next time I will try one of the draft wines.\", 'date': '2017-01-14 20:54:15'}\n",
          "output_type": "stream"
        }
      ],
      "execution_count": null
    },
    {
      "cell_type": "code",
      "source": [
        "import json\n",
        "import pandas as pd\n",
        "\n",
        "# Define the correct file path\n",
        "file_path = \"/kaggle/input/yelp-dataset/yelp_academic_dataset_review.json\"\n",
        "\n",
        "# Read the dataset (JSON lines format)\n",
        "reviews = []\n",
        "with open(file_path, \"r\", encoding=\"utf-8\") as f:\n",
        "    for line in f:\n",
        "        reviews.append(json.loads(line))\n",
        "\n",
        "# Convert to DataFrame\n",
        "df = pd.DataFrame(reviews)\n",
        "\n",
        "# Select the three most-reviewed businesses\n",
        "top_businesses = df[\"business_id\"].value_counts().nlargest(3).index.tolist()\n",
        "\n",
        "# Filter reviews for these businesses\n",
        "filtered_df = df[df[\"business_id\"].isin(top_businesses)][[\"user_id\", \"business_id\", \"text\"]]\n",
        "\n",
        "# **Fix: Remove duplicate reviews (keep only the first review per user & business)**\n",
        "filtered_df = filtered_df.drop_duplicates(subset=[\"user_id\", \"business_id\"], keep=\"first\")\n",
        "\n",
        "# Pivot the data to create the required table\n",
        "table_df = filtered_df.pivot(index=\"user_id\", columns=\"business_id\", values=\"text\")\n",
        "\n",
        "# Rename columns to \"Review 1\", \"Review 2\", \"Review 3\"\n",
        "table_df.columns = [f\"Review {i+1}\" for i in range(len(table_df.columns))]\n",
        "\n",
        "# Reset index to include `user_id` as a column\n",
        "table_df.reset_index(inplace=True)\n",
        "\n",
        "# Select at least 6002 unique users\n",
        "table_df = table_df.head(6002)\n",
        "\n",
        "# Save the table as a CSV file\n",
        "output_path = \"/kaggle/working/yelp_reviews_table.csv\"\n",
        "table_df.to_csv(output_path, index=False)\n",
        "\n",
        "# Display a sample of the final table\n",
        "print(table_df.head())\n",
        "\n",
        "print(f\"✅ Data saved successfully to {output_path}\")\n"
      ],
      "metadata": {
        "trusted": true,
        "execution": {
          "iopub.status.busy": "2025-03-11T07:52:48.30466Z",
          "iopub.execute_input": "2025-03-11T07:52:48.305155Z",
          "iopub.status.idle": "2025-03-11T07:54:37.732586Z",
          "shell.execute_reply.started": "2025-03-11T07:52:48.305117Z",
          "shell.execute_reply": "2025-03-11T07:54:37.731064Z"
        },
        "id": "HzBeew3S56T7",
        "outputId": "89a5683e-b4bc-47f0-8501-ca0cd7bb71df"
      },
      "outputs": [
        {
          "name": "stdout",
          "text": "                  user_id                                           Review 1  \\\n0  --b_RUNZHK5I2MVQiFjztA                                                NaN   \n1  --cO5bedOWodnt8UgamQNA  I had to try the Nashville Hot Chicken from th...   \n2  --e8m6lVrPIKZwVpGsCC5A                                                NaN   \n3  --nJFgLzMnczShVC_CGslQ  I used to always say my favorite food was sush...   \n4  -03y31IzykunU9azzgLsoQ  Nashville loves their hot chicken and this pla...   \n\n                                            Review 2  \\\n0  Family and I came here last night and waited f...   \n1                                                NaN   \n2                                                NaN   \n3                                                NaN   \n4                                                NaN   \n\n                                            Review 3  \n0                                                NaN  \n1                                                NaN  \n2  Came here while on vacation. Highly disappoint...  \n3                                                NaN  \n4                                                NaN  \n✅ Data saved successfully to /kaggle/working/yelp_reviews_table.csv\n",
          "output_type": "stream"
        }
      ],
      "execution_count": null
    },
    {
      "cell_type": "code",
      "source": [
        "import pandas as pd\n",
        "import numpy as np\n",
        "import nltk\n",
        "from nltk.sentiment import SentimentIntensityAnalyzer\n",
        "\n",
        "# Ensure the VADER lexicon is available\n",
        "nltk.download(\"vader_lexicon\")\n",
        "\n",
        "# Load the dataset\n",
        "file_path = \"/kaggle/working/yelp_reviews_table.csv\"  # Update with your actual file path\n",
        "df = pd.read_csv(file_path)\n",
        "\n",
        "# Initialize Sentiment Analyzer\n",
        "sia = SentimentIntensityAnalyzer()\n",
        "\n",
        "# Function to get sentiment score\n",
        "def get_sentiment(text):\n",
        "    if pd.isna(text) or text.strip() == \"\":\n",
        "        return 0  # Replace missing reviews with 0\n",
        "    return sia.polarity_scores(text)[\"compound\"]\n",
        "\n",
        "# Apply sentiment analysis, replacing review text with sentiment scores\n",
        "for col in df.columns[1:]:  # Skipping user_id\n",
        "    df[col] = df[col].apply(get_sentiment)\n",
        "\n",
        "# Save the updated dataset\n",
        "output_path = \"/kaggle/working/yelp_reviews_with_sentiment.csv\"\n",
        "df.to_csv(output_path, index=False)\n",
        "\n",
        "# Display sample results\n",
        "print(df.head())\n",
        "\n",
        "print(f\"✅ Sentiment analysis completed. File saved at: {output_path}\")"
      ],
      "metadata": {
        "trusted": true,
        "execution": {
          "iopub.status.busy": "2025-03-11T07:54:58.795118Z",
          "iopub.execute_input": "2025-03-11T07:54:58.796443Z",
          "iopub.status.idle": "2025-03-11T07:55:06.633974Z",
          "shell.execute_reply.started": "2025-03-11T07:54:58.796381Z",
          "shell.execute_reply": "2025-03-11T07:55:06.632751Z"
        },
        "id": "qNjSn4rW56T7",
        "outputId": "4d615c2f-8297-499a-e682-9823e39dda34"
      },
      "outputs": [
        {
          "name": "stdout",
          "text": "[nltk_data] Downloading package vader_lexicon to\n[nltk_data]     /usr/share/nltk_data...\n[nltk_data]   Package vader_lexicon is already up-to-date!\n                  user_id  Review 1  Review 2  Review 3\n0  --b_RUNZHK5I2MVQiFjztA    0.0000    0.9734    0.0000\n1  --cO5bedOWodnt8UgamQNA    0.8830    0.0000    0.0000\n2  --e8m6lVrPIKZwVpGsCC5A    0.0000    0.0000   -0.4754\n3  --nJFgLzMnczShVC_CGslQ    0.9313    0.0000    0.0000\n4  -03y31IzykunU9azzgLsoQ    0.8942    0.0000    0.0000\n✅ Sentiment analysis completed. File saved at: /kaggle/working/yelp_reviews_with_sentiment.csv\n",
          "output_type": "stream"
        }
      ],
      "execution_count": null
    }
  ]
}